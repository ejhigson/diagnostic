{
 "cells": [
  {
   "cell_type": "markdown",
   "metadata": {},
   "source": [
    "# Planck Results Plotting\n",
    "\n",
    "Notebook for plotting Figures 12 and 13 in \"nestcheck: diagnostic tests for nested sampling calculations\" ([Higson et al., 2018](https://arxiv.org/abs/1804.06406)), which use data from the *Planck* survey. For more details about the likelihood used, see the paper and references therein. The likelihood is public and so can be used to replicate the results in the paper. However note that this is computationally expensive.\n",
    "\n",
    "### Set up\n",
    "\n",
    "This notebook currently assumes the output files from  nested sampling runs using the *Planck* are stored in ``chains_planck`` with file roots of the form\n",
    "\n",
    "    '{}_nrepeats_{}'.format(nrepeats, index)\n",
    "\n",
    "### Imports"
   ]
  },
  {
   "cell_type": "code",
   "execution_count": null,
   "metadata": {},
   "outputs": [],
   "source": [
    "import warnings\n",
    "import functools\n",
    "import pandas as pd\n",
    "import matplotlib.ticker\n",
    "import matplotlib.pyplot as plt\n",
    "import nestcheck.diagnostics_tables\n",
    "import nestcheck.estimators as e\n",
    "import nestcheck.data_processing\n",
    "import nestcheck.plots\n",
    "import diagnostic.results_plots\n",
    "%matplotlib inline\n",
    "\n",
    "# Check matplotlib parameters\n",
    "# ---------------------------\n",
    "matplotlib_settings = {'text.usetex': True,\n",
    "                       'font.family': ['serif'],\n",
    "                       'font.serif': ['Times New Roman'],\n",
    "                       'font.size': 8}\n",
    "for key, value in matplotlib_settings.items():\n",
    "    if matplotlib.rcParams.get(key) != value:\n",
    "        print('{}={} - the paper plots use {}'.format(\n",
    "            key, matplotlib.rcParams.get(key), value))"
   ]
  },
  {
   "cell_type": "markdown",
   "metadata": {},
   "source": [
    "### Load data"
   ]
  },
  {
   "cell_type": "code",
   "execution_count": null,
   "metadata": {},
   "outputs": [],
   "source": [
    "planck_dict = {}\n",
    "for nrepeats in [1, 2, 3, 4, 5, 6, 7, 14, 21, 28, 35]:\n",
    "    if nrepeats in [1, 2, 3, 4, 5, 6, 7, 28]:\n",
    "        # reran first batch due to accidentally using an old PolyChord version with bug\n",
    "        inds = list(range(25, 50))\n",
    "    else:\n",
    "        inds = list(range(25))\n",
    "    print('nrepeats={}'.format(nrepeats))\n",
    "    file_roots = ['{}_repeats_{}'.format(nrepeats, i) for i in inds]\n",
    "    with warnings.catch_warnings():\n",
    "        warnings.filterwarnings(\"ignore\", message=r'for logl=')\n",
    "        run_list = nestcheck.data_processing.batch_process_data(\n",
    "            file_roots, base_dir='chains_planck', parallel=True, errors_to_handle=(ValueError, OSError))\n",
    "    planck_dict[nrepeats] = run_list"
   ]
  },
  {
   "cell_type": "markdown",
   "metadata": {},
   "source": [
    "### Load LaTeX paramnames"
   ]
  },
  {
   "cell_type": "code",
   "execution_count": null,
   "metadata": {},
   "outputs": [],
   "source": [
    "# Get the quantities we want to plot, and their latex names\n",
    "with open('chains_planck/1_repeats_1.paramnames', 'r') as file:\n",
    "    data = file.read()\n",
    "latex_names = [string.split('\\t')[1] for string in data.split('\\n')[:-1]]\n",
    "estimator_list = [e.logz]\n",
    "estimator_names = [e.get_latex_name(e.logz)]\n",
    "for ind in range(8):\n",
    "    estimator_list.append(functools.partial(e.param_mean, param_ind=ind))\n",
    "    estimator_names.append('$\\overline{{{}}}$'.format(latex_names[ind].replace(r'{\\rm{ln}}', r'\\log ')))\n",
    "    # print names\n",
    "    print('${}$'.format(latex_names[ind].replace(r'{\\rm{ln}}', r'\\log ')))"
   ]
  },
  {
   "cell_type": "markdown",
   "metadata": {},
   "source": [
    "### Get results DataFrame"
   ]
  },
  {
   "cell_type": "code",
   "execution_count": null,
   "metadata": {},
   "outputs": [],
   "source": [
    "n_simulate = 100\n",
    "planck_results = {}\n",
    "for key, run_list in planck_dict.items():\n",
    "    save_name = 'cache/errors_df_planck_{}repeats_{}runs_{}sim'.format(\n",
    "        key, len(inds), n_simulate)\n",
    "    planck_results[key] = nestcheck.diagnostics_tables.run_list_error_summary(\n",
    "        run_list, estimator_list, estimator_names, n_simulate=n_simulate,\n",
    "        save_name=save_name, save=True, load=True)\n",
    "planck_df_in = pd.concat(planck_results)\n",
    "planck_df_in.index.names = ['nrepeats'] + list(planck_df_in.index.names[1:]) \n",
    "planck_df = planck_df_in\n",
    "planck_df"
   ]
  },
  {
   "cell_type": "markdown",
   "metadata": {},
   "source": [
    "### Make line plot (Figure 12)"
   ]
  },
  {
   "cell_type": "code",
   "execution_count": null,
   "metadata": {},
   "outputs": [],
   "source": [
    "calculation_types = ['bootstrap std mean',\n",
    "                     'implementation std',\n",
    "                     'values std']\n",
    "linestyles = ['-', '--', ':', '-.']  # to ensure linestyles match key, which is made as a seperate pdf\n",
    "line_plot_inds = [[0, 1, 2, 4], [3, 5, 6, 8]]\n",
    "# Make the plot in two halves\n",
    "for i, plot_inds in enumerate(line_plot_inds):\n",
    "    assert len(plot_inds) == 4\n",
    "    df_temp = planck_df.loc[planck_df.index.get_level_values(0) >= 2]\n",
    "    df_temp.columns = estimator_names\n",
    "    df_temp = df_temp[[estimator_names[ind] for ind in plot_inds]]\n",
    "    fig = diagnostic.results_plots.get_line_plot(\n",
    "        df_temp, calculation_types, linestyles=linestyles,\n",
    "        log_scale=True, left_margin=0.4, right_margin=0.06)\n",
    "    for ax in fig.axes:\n",
    "        # standard form numbers on y labels\n",
    "        ax.get_yaxis().set_major_formatter(matplotlib.ticker.FormatStrFormatter('%.e'))\n",
    "        ax.set_xlim([2 * (35 / 40), 40])\n",
    "        ax.set_xticks([2, 4, 10, 20, 40])\n",
    "        ax.set_xticklabels([2, 4, 10, 20, 40])\n",
    "    savename = 'plots/line_nrepeats_planck_25runs_{}sim_{}.pdf'.format(\n",
    "        n_simulate, i + 1).replace(' ', '_')\n",
    "    fig.savefig(savename)"
   ]
  },
  {
   "cell_type": "markdown",
   "metadata": {},
   "source": [
    "### Set up for color plots"
   ]
  },
  {
   "cell_type": "code",
   "execution_count": null,
   "metadata": {},
   "outputs": [],
   "source": [
    "# Plot settings\n",
    "# -------------\n",
    "nrun = 2\n",
    "nrepeats = 1\n",
    "colwidth = 3.32153 * 0.99\n",
    "n_simulate = 500  # 500 for paper    \n",
    "npoints = 200  # 200 for paper\n",
    "start = 2\n",
    "run_list = planck_dict[nrepeats][start:start +nrun]\n",
    "# Get info about the parameters which have been plotted in the line plots\n",
    "param_names = []\n",
    "lims_dict = {}\n",
    "fthetas_dict = {}\n",
    "for ind, est_name in enumerate(estimator_names[1:]):  # exclude logZ (the first element)\n",
    "    name = est_name.replace(r'\\overline', '').replace(r'${', '$').replace(r'}$', '$')\n",
    "    param_names.append(name)\n",
    "    fthetas_dict[name] = functools.partial(diagnostic.results_utils.component_value, ind=ind)\n",
    "    # Get default limits for all params for quick plotting\n",
    "    lims_dict[name] = [e.param_cred(run_list[0], probability=prob, param_ind=ind) for prob in [0.001, 0.999]]\n",
    "# Specify limits used for params in the paper\n",
    "lims_dict['$\\\\Omega_b h^2$'] = [0.0215, 0.0235]\n",
    "lims_dict['$\\\\Omega_c h^2$'] = [0.11, 0.13]\n",
    "lims_dict['$\\\\tau$'] = [0.0, 0.225]\n",
    "lims_dict['$y_{\\\\rm cal}$'] = [0.9925, 1.0075]\n",
    "\n",
    "print(param_names)\n",
    "params_to_plot = [param_names[i] for i in [0, 1, 3, 7]]\n",
    "params_to_plot"
   ]
  },
  {
   "cell_type": "markdown",
   "metadata": {},
   "source": [
    "### BS param plot (Figure 13)"
   ]
  },
  {
   "cell_type": "code",
   "execution_count": null,
   "metadata": {
    "scrolled": true
   },
   "outputs": [],
   "source": [
    "assert len(params_to_plot) % 2 == 0\n",
    "for i in range(len(params_to_plot) // 2):\n",
    "    labels = params_to_plot[2 * i:2 * (i + 1)]\n",
    "    cache_root = 'bs_param_dists_planck_{}nrepeats_{}sim_{}points_{}'.format(\n",
    "        nrepeats, n_simulate, npoints, i + 1)\n",
    "    fig = nestcheck.plots.bs_param_dists(\n",
    "        run_list, labels=labels,\n",
    "        fthetas=[fthetas_dict[name] for name in labels],\n",
    "        ftheta_lims=[lims_dict[name] for name in labels],\n",
    "        cache='cache/' + cache_root, figsize=(colwidth, 1),\n",
    "        n_simulate=n_simulate, rasterize_contours=True,\n",
    "        nx=npoints, ny=npoints)\n",
    "    for i, name in enumerate(labels):\n",
    "        if name == '$\\\\Omega_b h^2$':\n",
    "            fig.axes[i].set_xticks([0.022, 0.023])\n",
    "    # Ajust figure plot size manually for best use of latex space as\n",
    "    # plt.layout_tight() does not work with the colorbars\n",
    "    fig.subplots_adjust(left=0.05, right=0.93, bottom=0.35, top=0.98)\n",
    "    fig.savefig('plots/' + cache_root + '.pdf', dpi=300)  # only contours are rasterised so dpi does not need to be that high"
   ]
  },
  {
   "cell_type": "markdown",
   "metadata": {},
   "source": [
    "### LogX plot\n",
    "\n",
    "Note this was not included in the final version of paper."
   ]
  },
  {
   "cell_type": "code",
   "execution_count": null,
   "metadata": {},
   "outputs": [],
   "source": [
    "# Settings\n",
    "# --------\n",
    "print(params_to_plot)\n",
    "figsize = (colwidth, 0.4 + 0.8 * len(params_to_plot))\n",
    "bottom_margin = 0.4 / figsize[1]\n",
    "cache_root = 'logx_planck_{}nrepeats_{}sim_{}points'.format(\n",
    "    nrepeats, n_simulate, npoints)\n",
    "# Make figure\n",
    "# -----------\n",
    "fig = nestcheck.plots.param_logx_diagram(\n",
    "    run_list, labels=params_to_plot, \n",
    "    fthetas=[fthetas_dict[name] for name in params_to_plot],\n",
    "    ftheta_lims=[lims_dict[name] for name in params_to_plot],\n",
    "    cache='cache/' + cache_root, rasterize_contours=True,\n",
    "    logx_min=-30,\n",
    "    figsize=figsize, npoints=npoints, thin=0.25)\n",
    "# fig.subplots_adjust(left=0.16, right=0.985, bottom=bottom_margin, top=0.995)\n",
    "# fig.savefig('plots/' + cache_root + '.pdf', dpi=400)"
   ]
  }
 ],
 "metadata": {
  "kernelspec": {
   "display_name": "Python 3",
   "language": "python",
   "name": "python3"
  },
  "language_info": {
   "codemirror_mode": {
    "name": "ipython",
    "version": 3
   },
   "file_extension": ".py",
   "mimetype": "text/x-python",
   "name": "python",
   "nbconvert_exporter": "python",
   "pygments_lexer": "ipython3",
   "version": "3.6.5"
  }
 },
 "nbformat": 4,
 "nbformat_minor": 2
}
