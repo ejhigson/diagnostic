{
 "cells": [
  {
   "cell_type": "markdown",
   "metadata": {},
   "source": [
    "# Planck Results Plotting"
   ]
  },
  {
   "cell_type": "code",
   "execution_count": null,
   "metadata": {},
   "outputs": [],
   "source": [
    "import warnings\n",
    "import functools\n",
    "import pandas as pd\n",
    "import matplotlib.ticker\n",
    "import matplotlib.pyplot as plt\n",
    "import nestcheck.diagnostics_tables\n",
    "import nestcheck.estimators as e\n",
    "import nestcheck.data_processing\n",
    "import diagnostic.results_plots\n",
    "%matplotlib inline\n",
    "\n",
    "# Check matplotlib parameters\n",
    "# ---------------------------\n",
    "matplotlib_settings = {'text.usetex': True,\n",
    "                       'font.family': ['serif'],\n",
    "                       'font.serif': ['Times New Roman'],\n",
    "                       'font.size': 8}\n",
    "for key, value in matplotlib_settings.items():\n",
    "    if matplotlib.rcParams.get(key) != value:\n",
    "        print('{}={} - the paper plots use {}'.format(\n",
    "            key, matplotlib.rcParams.get(key), value))"
   ]
  },
  {
   "cell_type": "code",
   "execution_count": null,
   "metadata": {},
   "outputs": [],
   "source": [
    "planck_dict = {}\n",
    "for nrepeats in [1, 2, 3, 4, 5, 6, 7, 14, 21, 28, 35]:\n",
    "    if nrepeats in [1, 2, 3, 4, 5, 6, 7, 28]:\n",
    "        # reran due to accidentally using an old PolyChord version with bug\n",
    "        inds = list(range(25, 50))\n",
    "    else:\n",
    "        inds = list(range(25))\n",
    "    print('nrepeats={}'.format(nrepeats))\n",
    "    file_roots = ['{}_repeats_{}'.format(nrepeats, i) for i in inds]\n",
    "    with warnings.catch_warnings():\n",
    "        warnings.filterwarnings(\"ignore\", message=r'for logl=')\n",
    "        run_list = nestcheck.data_processing.batch_process_data(\n",
    "            file_roots, base_dir='chains_planck', parallel=True, errors_to_handle=(ValueError, OSError))\n",
    "    planck_dict[nrepeats] = run_list"
   ]
  },
  {
   "cell_type": "code",
   "execution_count": null,
   "metadata": {},
   "outputs": [],
   "source": [
    "# Get the quantities we want to plot, and their latex names\n",
    "with open('chains_planck/1_repeats_1.paramnames', 'r') as file:\n",
    "    data = file.read()\n",
    "latex_names = [string.split('\\t')[1] for string in data.split('\\n')[:-1]]\n",
    "estimator_list = [e.logz]\n",
    "estimator_names = [e.get_latex_name(e.logz)]\n",
    "for ind in [0, 1, 3, 4, 5, 6, 7]:\n",
    "    estimator_list.append(functools.partial(e.param_mean, param_ind=ind))\n",
    "    estimator_names.append('$\\overline{{{}}}$'.format(latex_names[ind]))"
   ]
  },
  {
   "cell_type": "code",
   "execution_count": null,
   "metadata": {},
   "outputs": [],
   "source": [
    "n_simulate = 100\n",
    "planck_results = {}\n",
    "for key, run_list in planck_dict.items():\n",
    "    save_name = 'cache/errors_df_planck_{}repeats_{}runs_{}sim'.format(\n",
    "        key, len(inds), n_simulate)\n",
    "    planck_results[key] = nestcheck.diagnostics_tables.run_list_error_summary(\n",
    "        run_list, estimator_list, estimator_names, n_simulate=n_simulate,\n",
    "        save_name=save_name, save=True, load=True)\n",
    "planck_df_in = pd.concat(planck_results)\n",
    "planck_df_in.index.names = ['nrepeats'] + list(planck_df_in.index.names[1:]) \n",
    "planck_df = planck_df_in\n",
    "planck_df"
   ]
  },
  {
   "cell_type": "code",
   "execution_count": null,
   "metadata": {},
   "outputs": [],
   "source": [
    "calculation_types = ['bootstrap std mean',\n",
    "                     'implementation std',\n",
    "                     'values std']\n",
    "linestyles = ['-', '--', ':', '-.']  # to ensure linestyles match key, which is made as a seperate pdf\n",
    "# Make the plot in two halves\n",
    "assert len(planck_df.columns) == len(estimator_names) == 8\n",
    "for i in range(2):\n",
    "    df_temp = planck_df.loc[planck_df.index.get_level_values(0) >= 3]\n",
    "    df_temp = df_temp[estimator_names[i * 4:(i + 1) * 4]]\n",
    "    fig = diagnostic.results_plots.get_line_plot(\n",
    "        df_temp, calculation_types, linestyles=linestyles,\n",
    "        log_scale=False, left_margin=0.4)\n",
    "    for ax in fig.axes:\n",
    "        # standard form numbers on y labels\n",
    "        ax.get_yaxis().set_major_formatter(matplotlib.ticker.FormatStrFormatter('%.e'))\n",
    "    savename = 'plots/line_nrepeats_planck_25runs_{}sim_{}.pdf'.format(\n",
    "        n_simulate, i + 1).replace(' ', '_')\n",
    "    fig.savefig(savename)"
   ]
  }
 ],
 "metadata": {
  "kernelspec": {
   "display_name": "Python 3",
   "language": "python",
   "name": "python3"
  },
  "language_info": {
   "codemirror_mode": {
    "name": "ipython",
    "version": 3
   },
   "file_extension": ".py",
   "mimetype": "text/x-python",
   "name": "python",
   "nbconvert_exporter": "python",
   "pygments_lexer": "ipython3",
   "version": "3.6.5"
  }
 },
 "nbformat": 4,
 "nbformat_minor": 2
}
